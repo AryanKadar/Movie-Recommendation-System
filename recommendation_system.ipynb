{
 "cells": [
  {
   "cell_type": "code",
   "execution_count": 1,
   "id": "539adb9f",
   "metadata": {},
   "outputs": [],
   "source": [
    "import pandas as pd"
   ]
  },
  {
   "cell_type": "code",
   "execution_count": 2,
   "id": "9438a5bb",
   "metadata": {},
   "outputs": [],
   "source": [
    "t1=pd.read_csv(\"tmdb_5000_credits.csv\")\n",
    "t2=pd.read_csv(\"tmdb_5000_movies.csv\")"
   ]
  },
  {
   "cell_type": "code",
   "execution_count": 3,
   "id": "c4cf06b2",
   "metadata": {},
   "outputs": [],
   "source": [
    "t=pd.merge(t1, t2, left_on='movie_id', right_on='id', how = 'inner')"
   ]
  },
  {
   "cell_type": "code",
   "execution_count": 4,
   "id": "98ff67ad",
   "metadata": {},
   "outputs": [],
   "source": [
    "t.drop([\"id\",\"movie_id\",\"original_language\",\"title_y\",\"status\",\"homepage\",\"original_title\",\"vote_average\",\"vote_count\",\"release_date\",\"revenue\",\"budget\",\"popularity\",\"runtime\"],axis=1,inplace=True)"
   ]
  },
  {
   "cell_type": "code",
   "execution_count": 5,
   "id": "97ba2017",
   "metadata": {},
   "outputs": [
    {
     "data": {
      "text/plain": [
       "title_x                   0\n",
       "cast                      0\n",
       "crew                      0\n",
       "genres                    0\n",
       "keywords                  0\n",
       "overview                  3\n",
       "production_companies      0\n",
       "production_countries      0\n",
       "spoken_languages          0\n",
       "tagline                 844\n",
       "dtype: int64"
      ]
     },
     "execution_count": 5,
     "metadata": {},
     "output_type": "execute_result"
    }
   ],
   "source": [
    "t.isnull().sum()"
   ]
  },
  {
   "cell_type": "code",
   "execution_count": 6,
   "id": "ce288aa0",
   "metadata": {},
   "outputs": [],
   "source": [
    "t.dropna(inplace=True)\n",
    "t.reset_index(inplace=True,drop=True)"
   ]
  },
  {
   "cell_type": "code",
   "execution_count": 7,
   "id": "d6c28d28",
   "metadata": {},
   "outputs": [
    {
     "data": {
      "text/plain": [
       "0"
      ]
     },
     "execution_count": 7,
     "metadata": {},
     "output_type": "execute_result"
    }
   ],
   "source": [
    "t.duplicated().sum()"
   ]
  },
  {
   "cell_type": "code",
   "execution_count": 8,
   "id": "43d31310",
   "metadata": {},
   "outputs": [],
   "source": [
    "import re\n",
    "import ast\n",
    "def extract_acname(k):\n",
    "    c=0\n",
    "    li=[]\n",
    "    for i in ast.literal_eval(k):\n",
    "        li.append(i[\"name\"].replace(\" \",\"\"))\n",
    "        if c==3:\n",
    "            break\n",
    "        c=c+1\n",
    "    return li"
   ]
  },
  {
   "cell_type": "code",
   "execution_count": 9,
   "id": "b6bc68c0",
   "metadata": {
    "scrolled": false
   },
   "outputs": [],
   "source": [
    "t[\"cast\"]=t[\"cast\"].apply(extract_acname)"
   ]
  },
  {
   "cell_type": "code",
   "execution_count": 10,
   "id": "7d7fb855",
   "metadata": {},
   "outputs": [],
   "source": [
    "def extract_diname(k):\n",
    "    li=[]\n",
    "    for i in ast.literal_eval(k):\n",
    "            j=dict(i)\n",
    "            if \"Directing\" in j[\"department\"]:\n",
    "                li.append(j[\"name\"].replace(\" \",\"\"))\n",
    "    return li\n",
    "            \n",
    "        "
   ]
  },
  {
   "cell_type": "code",
   "execution_count": 11,
   "id": "048a9cba",
   "metadata": {},
   "outputs": [],
   "source": [
    "t[\"crew\"]=t[\"crew\"].apply(extract_diname)"
   ]
  },
  {
   "cell_type": "code",
   "execution_count": 12,
   "id": "e08a098a",
   "metadata": {},
   "outputs": [],
   "source": [
    "def extract_gename(k):\n",
    "    li=[]\n",
    "    for i in ast.literal_eval(k):\n",
    "        li.append(i[\"name\"].replace(\" \",\"\"))\n",
    "    return li\n",
    "    "
   ]
  },
  {
   "cell_type": "code",
   "execution_count": 13,
   "id": "b042ae88",
   "metadata": {},
   "outputs": [],
   "source": [
    "t[\"genres\"]=t[\"genres\"].apply(extract_gename)"
   ]
  },
  {
   "cell_type": "code",
   "execution_count": 14,
   "id": "1270f1ac",
   "metadata": {},
   "outputs": [],
   "source": [
    "def extract_proname(k):\n",
    "    li=[]\n",
    "    for i in ast.literal_eval(k):\n",
    "        li.append(i[\"name\"].replace(\" \",\"\"))\n",
    "    return li"
   ]
  },
  {
   "cell_type": "code",
   "execution_count": 15,
   "id": "54b7cef1",
   "metadata": {},
   "outputs": [],
   "source": [
    "t[\"production_companies\"]=t[\"production_companies\"].apply(extract_proname)"
   ]
  },
  {
   "cell_type": "code",
   "execution_count": 16,
   "id": "59f0e679",
   "metadata": {},
   "outputs": [],
   "source": [
    "def extract_proconame(k):\n",
    "    li=[]\n",
    "    for i in ast.literal_eval(k):\n",
    "        li.append(i[\"iso_3166_1\"])\n",
    "    return li"
   ]
  },
  {
   "cell_type": "code",
   "execution_count": 17,
   "id": "16f96664",
   "metadata": {},
   "outputs": [],
   "source": [
    "t[\"production_countries\"]=t[\"production_countries\"].apply(extract_proconame)"
   ]
  },
  {
   "cell_type": "code",
   "execution_count": 18,
   "id": "d850fa38",
   "metadata": {},
   "outputs": [],
   "source": [
    "def spoken(k):\n",
    "    li=[]\n",
    "    for i in ast.literal_eval(k):\n",
    "        li.append(i[\"iso_639_1\"])\n",
    "    return li"
   ]
  },
  {
   "cell_type": "code",
   "execution_count": 19,
   "id": "659855fc",
   "metadata": {},
   "outputs": [],
   "source": [
    "t[\"spoken_languages\"]=t[\"spoken_languages\"].apply(spoken)"
   ]
  },
  {
   "cell_type": "code",
   "execution_count": 20,
   "id": "7d342160",
   "metadata": {},
   "outputs": [],
   "source": [
    "def spoken(k):\n",
    "    li=[]\n",
    "    for i in ast.literal_eval(k):\n",
    "        li.append(i[\"name\"])\n",
    "    return li"
   ]
  },
  {
   "cell_type": "code",
   "execution_count": 21,
   "id": "04945b81",
   "metadata": {},
   "outputs": [],
   "source": [
    "t[\"keywords\"]=t[\"keywords\"].apply(spoken)"
   ]
  },
  {
   "cell_type": "code",
   "execution_count": 22,
   "id": "e7d870d4",
   "metadata": {},
   "outputs": [],
   "source": [
    "def concat_rec(yu):\n",
    "    return ' '.join(yu)\n",
    "t[\"cast\"]=t[\"cast\"].apply(concat_rec)\n",
    "t[\"crew\"]=t[\"crew\"].apply(concat_rec)\n",
    "t[\"genres\"]=t[\"genres\"].apply(concat_rec)\n",
    "t[\"keywords\"]=t[\"keywords\"].apply(concat_rec)\n",
    "t[\"production_companies\"]=t[\"production_companies\"].apply(concat_rec)\n",
    "t[\"production_countries\"]=t[\"production_countries\"].apply(concat_rec)\n",
    "t[\"spoken_languages\"]=t[\"spoken_languages\"].apply(concat_rec)"
   ]
  },
  {
   "cell_type": "code",
   "execution_count": 23,
   "id": "a637cb04",
   "metadata": {},
   "outputs": [],
   "source": [
    "def wdfsdvc(l):\n",
    "    return ' '.join(map(str, l))\n",
    "tt=pd.DataFrame(t.apply(wdfsdvc, axis=1),columns=[\"new\"])\n",
    "t.drop([\"cast\",\"crew\",\"genres\",\"keywords\",\"overview\",\"production_companies\",\"production_countries\",\"spoken_languages\",\"tagline\"],axis=1,inplace=True)"
   ]
  },
  {
   "cell_type": "code",
   "execution_count": 24,
   "id": "1f720b21",
   "metadata": {},
   "outputs": [
    {
     "data": {
      "text/html": [
       "<div>\n",
       "<style scoped>\n",
       "    .dataframe tbody tr th:only-of-type {\n",
       "        vertical-align: middle;\n",
       "    }\n",
       "\n",
       "    .dataframe tbody tr th {\n",
       "        vertical-align: top;\n",
       "    }\n",
       "\n",
       "    .dataframe thead th {\n",
       "        text-align: right;\n",
       "    }\n",
       "</style>\n",
       "<table border=\"1\" class=\"dataframe\">\n",
       "  <thead>\n",
       "    <tr style=\"text-align: right;\">\n",
       "      <th></th>\n",
       "      <th>new</th>\n",
       "    </tr>\n",
       "  </thead>\n",
       "  <tbody>\n",
       "    <tr>\n",
       "      <th>0</th>\n",
       "      <td>Avatar SamWorthington ZoeSaldana SigourneyWeav...</td>\n",
       "    </tr>\n",
       "    <tr>\n",
       "      <th>1</th>\n",
       "      <td>Pirates of the Caribbean: At World's End Johnn...</td>\n",
       "    </tr>\n",
       "    <tr>\n",
       "      <th>2</th>\n",
       "      <td>Spectre DanielCraig ChristophWaltz LéaSeydoux ...</td>\n",
       "    </tr>\n",
       "    <tr>\n",
       "      <th>3</th>\n",
       "      <td>The Dark Knight Rises ChristianBale MichaelCai...</td>\n",
       "    </tr>\n",
       "    <tr>\n",
       "      <th>4</th>\n",
       "      <td>John Carter TaylorKitsch LynnCollins SamanthaM...</td>\n",
       "    </tr>\n",
       "  </tbody>\n",
       "</table>\n",
       "</div>"
      ],
      "text/plain": [
       "                                                 new\n",
       "0  Avatar SamWorthington ZoeSaldana SigourneyWeav...\n",
       "1  Pirates of the Caribbean: At World's End Johnn...\n",
       "2  Spectre DanielCraig ChristophWaltz LéaSeydoux ...\n",
       "3  The Dark Knight Rises ChristianBale MichaelCai...\n",
       "4  John Carter TaylorKitsch LynnCollins SamanthaM..."
      ]
     },
     "execution_count": 24,
     "metadata": {},
     "output_type": "execute_result"
    }
   ],
   "source": [
    "tt.head()"
   ]
  },
  {
   "cell_type": "code",
   "execution_count": 25,
   "id": "7a0165d1",
   "metadata": {
    "scrolled": true
   },
   "outputs": [
    {
     "data": {
      "text/html": [
       "<div>\n",
       "<style scoped>\n",
       "    .dataframe tbody tr th:only-of-type {\n",
       "        vertical-align: middle;\n",
       "    }\n",
       "\n",
       "    .dataframe tbody tr th {\n",
       "        vertical-align: top;\n",
       "    }\n",
       "\n",
       "    .dataframe thead th {\n",
       "        text-align: right;\n",
       "    }\n",
       "</style>\n",
       "<table border=\"1\" class=\"dataframe\">\n",
       "  <thead>\n",
       "    <tr style=\"text-align: right;\">\n",
       "      <th></th>\n",
       "      <th>title_x</th>\n",
       "    </tr>\n",
       "  </thead>\n",
       "  <tbody>\n",
       "    <tr>\n",
       "      <th>0</th>\n",
       "      <td>Avatar</td>\n",
       "    </tr>\n",
       "    <tr>\n",
       "      <th>1</th>\n",
       "      <td>Pirates of the Caribbean: At World's End</td>\n",
       "    </tr>\n",
       "    <tr>\n",
       "      <th>2</th>\n",
       "      <td>Spectre</td>\n",
       "    </tr>\n",
       "    <tr>\n",
       "      <th>3</th>\n",
       "      <td>The Dark Knight Rises</td>\n",
       "    </tr>\n",
       "    <tr>\n",
       "      <th>4</th>\n",
       "      <td>John Carter</td>\n",
       "    </tr>\n",
       "  </tbody>\n",
       "</table>\n",
       "</div>"
      ],
      "text/plain": [
       "                                    title_x\n",
       "0                                    Avatar\n",
       "1  Pirates of the Caribbean: At World's End\n",
       "2                                   Spectre\n",
       "3                     The Dark Knight Rises\n",
       "4                               John Carter"
      ]
     },
     "execution_count": 25,
     "metadata": {},
     "output_type": "execute_result"
    }
   ],
   "source": [
    "t.head()"
   ]
  },
  {
   "cell_type": "code",
   "execution_count": 26,
   "id": "57b340ab",
   "metadata": {},
   "outputs": [],
   "source": [
    "from nltk.stem import WordNetLemmatizer as WNL\n",
    "from nltk import word_tokenize\n",
    "import nltk\n",
    "from nltk.corpus import wordnet \n",
    "from autocorrect import Speller"
   ]
  },
  {
   "cell_type": "code",
   "execution_count": 27,
   "id": "2f0c4ca1",
   "metadata": {},
   "outputs": [],
   "source": [
    "get_wordnet_pos=lambda treebank_tag: wordnet.ADJ if treebank_tag[0]==\"J\" else wordnet.VERB if treebank_tag[0]==\"V\" else wordnet.ADV if treebank_tag[0]==\"R\" else wordnet.NOUN "
   ]
  },
  {
   "cell_type": "code",
   "execution_count": 28,
   "id": "de0e5459",
   "metadata": {},
   "outputs": [],
   "source": [
    "wnl = WNL()\n",
    "\n",
    "def lemmatize_text(text):\n",
    "    return \" \".join([wnl.lemmatize(t,pos=get_wordnet_pos(nltk.pos_tag([t])[0][1])) for t in word_tokenize(text)])\n",
    "tt[\"new\"]=tt[\"new\"].apply(lemmatize_text)"
   ]
  },
  {
   "cell_type": "code",
   "execution_count": 29,
   "id": "5d2d118a",
   "metadata": {},
   "outputs": [],
   "source": [
    "from sklearn.feature_extraction.text import CountVectorizer"
   ]
  },
  {
   "cell_type": "code",
   "execution_count": 30,
   "id": "1ad38e40",
   "metadata": {},
   "outputs": [],
   "source": [
    "cv=CountVectorizer(binary=True,max_features=5000,stop_words =\"english\")"
   ]
  },
  {
   "cell_type": "code",
   "execution_count": 31,
   "id": "c8f31583",
   "metadata": {},
   "outputs": [],
   "source": [
    "rec=cv.fit_transform(tt[\"new\"]).toarray()"
   ]
  },
  {
   "cell_type": "code",
   "execution_count": 32,
   "id": "43eb9319",
   "metadata": {},
   "outputs": [],
   "source": [
    "from sklearn.metrics.pairwise import cosine_similarity"
   ]
  },
  {
   "cell_type": "code",
   "execution_count": 33,
   "id": "fe8c2341",
   "metadata": {},
   "outputs": [],
   "source": [
    "cs=pd.DataFrame(cosine_similarity(rec))"
   ]
  },
  {
   "cell_type": "code",
   "execution_count": 34,
   "id": "faf4776e",
   "metadata": {},
   "outputs": [],
   "source": [
    "cs.set_index(t.index,inplace=True)"
   ]
  },
  {
   "cell_type": "code",
   "execution_count": 35,
   "id": "774cdbf2",
   "metadata": {},
   "outputs": [],
   "source": [
    "def recommend(y):\n",
    "    movie=[]\n",
    "    index_movie=t[(t.title_x==y)].index[0]\n",
    "    for i in sorted(list(enumerate(cs[index_movie])),reverse=True,key=lambda x:x[1])[1:7]:\n",
    "        movie.append(i[0])\n",
    "    return list(t.loc[movie,:].title_x.values)"
   ]
  },
  {
   "cell_type": "code",
   "execution_count": 36,
   "id": "5aff959c",
   "metadata": {},
   "outputs": [
    {
     "data": {
      "text/plain": [
       "['The Dark Knight',\n",
       " 'Batman Begins',\n",
       " 'Batman',\n",
       " 'Batman Returns',\n",
       " 'Batman Forever',\n",
       " 'The Prestige']"
      ]
     },
     "execution_count": 36,
     "metadata": {},
     "output_type": "execute_result"
    }
   ],
   "source": [
    "recommend(\"The Dark Knight Rises\")"
   ]
  }
 ],
 "metadata": {
  "kernelspec": {
   "display_name": "Python 3 (ipykernel)",
   "language": "python",
   "name": "python3"
  },
  "language_info": {
   "codemirror_mode": {
    "name": "ipython",
    "version": 3
   },
   "file_extension": ".py",
   "mimetype": "text/x-python",
   "name": "python",
   "nbconvert_exporter": "python",
   "pygments_lexer": "ipython3",
   "version": "3.10.9"
  }
 },
 "nbformat": 4,
 "nbformat_minor": 5
}
